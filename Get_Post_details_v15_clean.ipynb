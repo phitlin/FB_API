##v15 cleaned in prep for checking

from urllib2 import urlopen
from json import load 
import json, re, os, sys, requests
import openpyxl
import time, datetime
from urlparse import urlparse
import urllib2

key = '1438551159549358|BKa-ZBwRR8YbVdXPE45FHU2y9W4'
pagetitle = 'billnye' ##change accordingly

wb = openpyxl.load_workbook('fb_posts_list_billnye_2017_to_May_1_2017.xlsx') ##change accordingly

sheet = wb.get_sheet_by_name('Sheet1')

##takes list of posts already captured and creates new columns for coming data from API

sheet.cell(row=1, column=13).value = "total reactions - all kinds"
sheet.cell(row=1, column=14).value = "reactions - number of likes"
sheet.cell(row=1, column=15).value = "reactions - number of wows"
sheet.cell(row=1, column=16).value = "reactions - number of sads"
sheet.cell(row=1, column=17).value = "reactions - number of loves"
sheet.cell(row=1, column=18).value = "reactions - number of hahas"
sheet.cell(row=1, column=19).value = "reactions - number of angrys"
sheet.cell(row=1, column=20).value = "reactions - number of thankfuls"
sheet.cell(row=1, column=21).value = "number of shares"
sheet.cell(row=1, column=22).value = "description"
sheet.cell(row=1, column=23).value = "caption"
sheet.cell(row=1, column=24).value = "link"

sheet.cell(row=1, column=26).value = "name1"
sheet.cell(row=1, column=27).value = "status type"
sheet.cell(row=1, column=28).value = "type"
sheet.cell(row=1, column=29).value = "from"
sheet.cell(row=1, column=30).value = "object id"
sheet.cell(row=1, column=31).value = "parent id"
sheet.cell(row=1, column=32).value = "permalink"
sheet.cell(row=1, column=33).value = "picture link"
sheet.cell(row=1, column=34).value = "id1"
sheet.cell(row=1, column=35).value = "created_time_1"
sheet.cell(row=1, column=36).value = "updated_time"
sheet.cell(row=1, column=37).value = "number of comments"

sheet.cell(row=1, column=38).value = "message tagname1"
sheet.cell(row=1, column=39).value = "message tag id1"
sheet.cell(row=1, column=40).value = "message type1"

sheet.cell(row=1, column=41).value = "message tagname2"
sheet.cell(row=1, column=42).value = "message tag id2"
sheet.cell(row=1, column=43).value = "message type2"

sheet.cell(row=1, column=44).value = "message tagname3"
sheet.cell(row=1, column=45).value = "message tag id3"
sheet.cell(row=1, column=46).value = "message type3"

sheet.cell(row=1, column=47).value = "message tagname4"
sheet.cell(row=1, column=48).value = "message tag id4"
sheet.cell(row=1, column=49).value = "message type4"

sheet.cell(row=1, column=50).value = "message tagname5"
sheet.cell(row=1, column=51).value = "message tag id5"
sheet.cell(row=1, column=52).value = "message type5"

sheet.cell(row=1, column=53).value = "properties name"
sheet.cell(row=1, column=54).value = "properties text"

sheet.cell(row=1, column=55).value = "time capture of post details"
sheet.cell(row=1, column=57).value = "link website 1"
sheet.cell(row=1, column=58).value = "link website 2 (FB links only)"

wb.save('fb_posts_list_' + pagetitle + '_2017_April_to_June_w_links_and_details.xlsx') 



rownum = 2 ##set appropriately
IDnumber = 2
gotdata = 0
origurl = 3
turn = 3

while IDnumber:
##while rownum < 18370:   ##use only when wanting to end on a certain row
    print 'row number is ' + str(rownum)
    ##saving backup every 200 rows
    if rownum % 200 == 0:
        print 'saving backup'
        wb.save('fb_posts_list_' + pagetitle + '_latest_backup.xlsx')
    IDnumber = sheet['D' + str(rownum)].value
    l = 0
    if str(IDnumber) == 'None':
        break  
    url = 'https://graph.facebook.com/v2.8/' + str(IDnumber) + '?fields=reactions.type(NONE).limit(0).summary(1).as(total_reactions),reactions.type(LIKE).limit(0).summary(1).as(like),reactions.type(WOW).limit(0).summary(1).as(wow),reactions.type(SAD).limit(0).summary(1).as(sad),reactions.type(LOVE).limit(0).summary(1).as(love),reactions.type(HAHA).limit(0).summary(1).as(haha),reactions.type(ANGRY).limit(0).summary(1).as(angry),reactions.type(THANKFUL).limit(0).summary(1).as(thankful),message,shares,created_time,updated_time,description,caption,link,message_tags,name,properties,source,status_type,story,type,from,object_id,parent_id,permalink_url,picture,place&access_token=' + key
    r = requests.head(url)
    if r.status_code == 400:
        l = 1
    if l == 0:
        turn = 0
        while turn < 3:
            try: 
                response = urlopen(url)
                break
            except Exception as e:
                print e
                print "some ERROR, waiting 5 seconds"
                turn = turn + 1
                print "turn is " + str(turn)
                time.sleep(5)
        response = urlopen(url)
        json_obj = load(response)
        w = json_obj
        if 'total_reactions' in w:
            sheet.cell(row=rownum, column=13).value = w["total_reactions"]["summary"]["total_count"]
        else: sheet.cell(row=rownum, column=13).value = "no # of total_reactions"
        if 'like' in w:
            sheet.cell(row=rownum, column=14).value = w["like"]["summary"]["total_count"]
        else: sheet.cell(row=rownum, column=14).value = "no # of likes"
        if 'wow' in w:
            sheet.cell(row=rownum, column=15).value = w["wow"]["summary"]["total_count"]
        else: sheet.cell(row=rownum, column=15).value = "no # of wows"
        if 'sad' in w:
            sheet.cell(row=rownum, column=16).value = w["sad"]["summary"]["total_count"]
        else: sheet.cell(row=rownum, column=15).value = "no # of sads"
        if 'love' in w:
            sheet.cell(row=rownum, column=17).value = w["love"]["summary"]["total_count"]
        else: sheet.cell(row=rownum, column=17).value = "no # of loves"
        if 'haha' in w:
            sheet.cell(row=rownum, column=18).value = w["haha"]["summary"]["total_count"]
        else: sheet.cell(row=rownum, column=18).value = "no # of hahas"
        if 'angry' in w:
            sheet.cell(row=rownum, column=19).value = w["angry"]["summary"]["total_count"]
        else: sheet.cell(row=rownum, column=19).value = "no # of angrys"
        if 'thankful' in w:
            sheet.cell(row=rownum, column=20).value = w["thankful"]["summary"]["total_count"]
        else: sheet.cell(row=rownum, column=20).value = "no # of thankfuls"
        if 'shares' in w:
            sheet.cell(row=rownum, column=21).value = w["shares"]["count"]
        else: sheet.cell(row=rownum, column=21).value = "no # of shares"
        if 'description' in w:
            sheet.cell(row=rownum, column=22).value = w["description"]
        else: sheet.cell(row=rownum, column=22).value = "no description"
        if 'caption' in w:
            sheet.cell(row=rownum, column=23).value = w["caption"]
        else: sheet.cell(row=rownum, column=23).value = "no caption"
        if 'link' in w:
            sheet.cell(row=rownum, column=24).value = w["link"]
        else: sheet.cell(row=rownum, column=24).value = "no link"
        if 'message_tags' in w:
            t = 0
            r = 38
            while t < 9:
                p = 0
                try: gotdata = w["message_tags"][t]["name"]
                except IndexError:
                    if t == 0:
                        gotdata = 'no message tags'
                        sheet.cell(row=rownum, column=r).value = "no message tags"
                    break
                try: gotdata = w["message_tags"][t]["name"]
                except IndexError:
                    sheet.cell(row=rownum, column=r).value = "no tag name"
                sheet.cell(row=rownum, column=r).value = w["message_tags"][t]["name"]
                r = r + 1
                try: gotdataid = w["message_tags"][t]["id"]
                except IndexError:
                    gotdataid = "no tag id"
                sheet.cell(row=rownum, column=r).value = w["message_tags"][t]["id"]
                r = r + 1
                gotdatatype = 0
                z = 0
                try: gotdatatype = w["message_tags"][t]["type"]
                except KeyError:
                    sheet.cell(row=rownum, column=r).value = "no tag type listed"
                    z = 1
                if z == 0:
                    sheet.cell(row=rownum, column=r).value = w["message_tags"][t]["type"]
                t = t + 1
                r = r + 1
        if 'properties' in w:
            sheet.cell(row=rownum, column=53).value = w["properties"][0]["name"]
            sheet.cell(row=rownum, column=54).value = w["properties"][0]["text"]
        else: sheet.cell(row=rownum, column=53).value = "no properties"
        if 'name' in w:
            sheet.cell(row=rownum, column=26).value = w["name"]
        else: sheet.cell(row=rownum, column=26).value = "no name"
        if 'status_type' in w:
            sheet.cell(row=rownum, column=27).value = w["status_type"]
        else: sheet.cell(row=rownum, column=27).value = "no status type"
        if 'type' in w:
            sheet.cell(row=rownum, column=28).value = w["type"]
        else: sheet.cell(row=rownum, column=28).value = "no type"
        sheet.cell(row=rownum, column=29).value = w["from"]["name"]
        if 'object_id' in w:
            sheet.cell(row=rownum, column=30).value = w["object_id"]
        else: sheet.cell(row=rownum, column=30).value = "no object_id"
        if 'parent_id' in w:
            sheet.cell(row=rownum, column=31).value = w["parent_id"]
        else: sheet.cell(row=rownum, column=31).value = "no parent_id"
        if 'permalink_url' in w:
            sheet.cell(row=rownum, column=32).value = w["permalink_url"]
        else: sheet.cell(row=rownum, column=32).value = "no permalink_url"
        if 'picture' in w:
            sheet.cell(row=rownum, column=33).value = w["picture"]
        else: sheet.cell(row=rownum, column=33).value = "no picture"
        if 'id' in w:
            sheet.cell(row=rownum, column=34).value = w["id"]
        else: sheet.cell(row=rownum, column=34).value = "no id"
        if 'created_time' in w:
            sheet.cell(row=rownum, column=35).value = w["created_time"]
        else: sheet.cell(row=rownum, column=35).value = "no created_time"
        if 'updated_time' in w:
            sheet.cell(row=rownum, column=36).value = w["updated_time"]
        else: sheet.cell(row=rownum, column=36).value = "no updated_time"  
        ##to get number of comments, have to run a 2nd API call here
        url = 'https://graph.facebook.com/v2.8/' + str(IDnumber) + '/comments?summary=true&access_token=' + key
        turn = 0
        while turn < 3:
            try: 
                response = urlopen(url)
                break
            except Exception as e:
                print e
                print "some ERROR, waiting 5 seconds"
                turn = turn + 1
                print "turn is " + str(turn)
                time.sleep(5)
        json_obj = load(response)
        c = json_obj
        if 'summary' in c:
            sheet.cell(row=rownum, column=37).value = c["summary"]["total_count"]
        else: sheet.cell(row=rownum, column=37).value = "no comments"
        ##now parsing link to get rid of bit.lys, etc.##
        origurl = sheet['X' + str(rownum)].value
        u = origurl.encode('utf-8').strip()  ##changed because of encoding errors on Sciencdump page
        if origurl == "no link" or origurl == None:
            sheet.cell(row=rownum, column=57).value = "no link"
        else:
            try:
                f = urllib2.urlopen(u)
            except Exception:
                print "link error - cannot be parsed"
                sheet.cell(row=rownum, column=57).value = "ERROR - must fix"
            else:
                response = urllib2.urlopen(origurl)
                fullurl = response.geturl()
                returl = str(fullurl)
                o = urlparse(returl)
                sheet.cell(row=rownum, column=57).value = o[1]
                a = 1
                if o[1] == "www.facebook.com":
                    h = str(o[2])
                    while a:
                        if h[a] == "/":
                            sheet.cell(row=rownum, column=58).value = h[1:a]
                            break
                        else:
                            a = a + 1
    sheet.cell(row=rownum, column=55).value = datetime.datetime.now()
    ##saving excel file every 30 rows
    if rownum % 30 == 0:
        print 'saving'
        wb.save('fb_posts_list_' + pagetitle + '_2017_April_to_June_w_links_and_details.xlsx') 
    rownum = rownum + 1
    time.sleep(0.3)
print 'done'


wb.save('fb_posts_list_' + pagetitle + '_2017_April_to_June_w_links_and_details.xlsx') 

